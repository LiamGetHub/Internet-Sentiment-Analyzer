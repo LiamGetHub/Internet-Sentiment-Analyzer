{
 "cells": [
  {
   "cell_type": "markdown",
   "id": "3e21fa05",
   "metadata": {},
   "source": [
    "## Web Crawl\n",
    "-- Crawl popular web forums and news outlets.\n",
    "-- Collect data from pages.\n",
    "-- Clean to fead to the sentiment anlysis and visualization."
   ]
  },
  {
   "cell_type": "code",
   "execution_count": null,
   "id": "cc124b72",
   "metadata": {},
   "outputs": [
    {
     "name": "stdout",
     "output_type": "stream",
     "text": [
      "['Nine reported killed in Russian strike on civilian bus in Ukraine', 'Ukraine and Russia far apart in direct talks, but prisoner swap agreed', 'Dizziness from hunger has become a constant, Gazans tell the BBC', \"How Diddy's lawyers used freak-off texts against Cassie\", 'US loses last perfect credit rating amid rising debt', 'Ukraine and Russia far apart in direct talks, but prisoner swap agreed', \"Why Sean Diddy Combs's trial hinges on ex-girlfriend Cassie's testimony\", 'Ex-FBI boss interviewed by Secret Service over Trump seashell post', \"Trump's frantic week of peace brokering hints at what he really wants\", 'Dizziness from hunger has become a constant, Gazans tell the BBC', \"I was on a flight - but British Airways told me I wasn't\", \"Four obstacles for Republican rebels in Trump's 'big, beautiful' tax bill\", \"Venezuelan deported from US using gang 'points system', lawyers say\", 'Melania Trump statue goes missing in Slovenia', \"'To Easy LoL' - New Orleans jail break may have been inside job\", 'More to explore', \"Ros Atkins on... how world leaders are responding to Israel's blockade of Gaza\", \"The 'peacock of Savile Row' on dressing stars for the Met Gala\", 'Cassie Ventura tells Diddy trial she would give back $20m to undo freak-offs', \"Of opium, fire temples, and sarees: A peek into the world of India's dwindling Parsis\", 'Why youth mobility and fishing are key issues ahead of UK/EU summit', \"The 'peacock of Savile Row' on dressing stars for the Met Gala\", \"'To Easy LoL' - New Orleans jail break may have been inside job\", 'Cassie Ventura tells Diddy trial she would give back $20m to undo freak-offs', 'Also in news', 'Huge fire engulfs historic plantation house in Louisiana', 'Brits can be extradited over Tokyo jewellery heist', 'Russia jails Australian man for fighting alongside Ukraine', 'LA 2028 Olympics plans air taxi service for spectators', 'ICC prosecutor steps aside until sexual misconduct probe ends', 'Brits can be extradited over Tokyo jewellery heist', \"Audio emerges of Biden 'poor memory' interview with investigator\", 'All you need to know about the Eurovision 2025 final', 'Polish voters set for tight presidential race after 10 years of Duda', 'Russia jails Australian man for fighting alongside Ukraine', 'Most watched', \"How Diddy's lawyers used freak-off texts against Cassie\", 'Huge fire engulfs historic plantation house in Louisiana', \"Ros Atkins on... how world leaders are responding to Israel's blockade of Gaza\", 'Watch: Moment train ploughs into lorry stuck on tracks', 'Watch: Should judges be able to block Trump on birthright citizenship?', 'Most read', \"Trump's frantic week of peace brokering hints at what he really wants\", 'Nine reported killed in Russian strike on civilian bus in Ukraine', 'Cassie Ventura tells Diddy trial she would give back $20m to undo freak-offs', 'Ex-FBI boss interviewed by Secret Service over Trump seashell post', \"Why Sean Diddy Combs's trial hinges on ex-girlfriend Cassie's testimony\", \"Canada's iconic Hudson Bay brand to survive after sale to competitor\", 'US loses last perfect credit rating amid rising debt', \"I was on a flight - but British Airways told me I wasn't\", \"Of opium, fire temples, and sarees: A peek into the world of India's dwindling Parsis\", \"Audio emerges of Biden 'poor memory' interview with investigator\", 'Sport', 'Vegas leads from Fitzpatrick as McIlroy makes US PGA cut', \"'You don't talk about the egg before the hen lays it'\", \"McLaren still need to 'find a bit more' - Piastri\", 'Sinner & Alcaraz set up huge Italian Open final', 'Guardiola unhappy Bournemouth game not moved', \"'You don't talk about the egg before the hen lays it'\", \"Record lows for Man Utd & Spurs - but who's in best shape for Bilbao?\", 'Chelsea fate in own hands & Villa hope - six teams in top-five hunt', \"McLaren still need to 'find a bit more' - Piastri\", 'Follow BBC on:', 'What to Watch and Read', 'Weather', 'More News', 'Well', 'Culture and Lifestyle', 'The AthleticSports coverage', 'AudioPodcasts and narrated articles', 'CookingRecipes and guides', 'Most Popular This Week', 'WirecutterProduct recommendations', 'GamesDaily puzzles', 'Site Index', 'Site Information Navigation', 'Sections', '', 'Top Stories', 'Newsletters', 'Podcasts', 'Sections', 'Top Stories', 'Newsletters', '', 'Sections', '', 'Top Stories', 'Newsletters', 'Podcasts', 'Sections', '', 'Recommendations', 'Newsletters', 'Podcasts', 'Sections', '', 'Columns', 'Newsletters', 'Podcasts', 'Sections', 'Topics', 'Columnists', 'Podcasts', 'Audio', 'Listen', 'Featured', 'Newsletters', 'Games', 'Play', '', 'Community', 'Newsletters', 'Cooking', 'Recipes', \"Editors' Picks\", 'Newsletters', '', 'Wirecutter', 'Reviews', '', 'The Best...', 'Newsletters', 'The Athletic', 'Leagues', 'Top Stories', 'Newsletters', 'Play', 'Sections', '', 'Top Stories', 'Newsletters', 'Podcasts', 'Sections', 'Top Stories', 'Newsletters', '', 'Sections', '', 'Top Stories', 'Newsletters', 'Podcasts', 'Sections', '', 'Recommendations', 'Newsletters', 'Podcasts', 'Sections', '', 'Columns', 'Newsletters', 'Podcasts', 'Sections', 'Topics', 'Columnists', 'Podcasts', 'Audio', 'Listen', 'Featured', 'Newsletters', 'Games', 'Play', '', 'Community', 'Newsletters', 'Cooking', 'Recipes', \"Editors' Picks\", 'Newsletters', '', 'Wirecutter', 'Reviews', '', 'The Best...', 'Newsletters', 'The Athletic', 'Leagues', 'Top Stories', 'Newsletters', 'Play']\n"
     ]
    }
   ],
   "source": [
    "# import requests\n",
    "# from bs4 import BeautifulSoup\n",
    "\n",
    "# def get_headlines():\n",
    "#     # turn this into a list/structure in the future\n",
    "#     # replace with api calls for longevity?\n",
    "#     url = \"https://www.bbc.com/news\"\n",
    "#     response = requests.get(url)\n",
    "#     soup = BeautifulSoup(response.text, \"html.parser\")\n",
    "\n",
    "#     #scrape h2 and h3 \n",
    "#     h2Headlines = [h.get_text() for h in soup.find_all(\"h2\")]\n",
    "#     h3Headlines = [h.get_text() for h in soup.find_all(\"h3\")]\n",
    "\n",
    "#     #add to one list\n",
    "#     headlines = h2Headlines + h3Headlines\n",
    "#     return headlines\n",
    "\n",
    "# print(get_headlines())\n",
    "\n",
    "import requests\n",
    "from bs4 import BeautifulSoup\n",
    "\n",
    "def get_headlines(urls):\n",
    "    all_headlines = []\n",
    "    for url in urls:\n",
    "        try:\n",
    "            response = requests.get(url)\n",
    "            response.raise_for_status()  # Raise error for bad responses\n",
    "            soup = BeautifulSoup(response.text, \"html.parser\")\n",
    "\n",
    "            h2Headlines = [h.get_text().strip() for h in soup.find_all(\"h2\")]\n",
    "            h3Headlines = [h.get_text().strip() for h in soup.find_all(\"h3\")]\n",
    "\n",
    "            headlines = h2Headlines + h3Headlines\n",
    "            all_headlines.extend(headlines)\n",
    "        except requests.RequestException as e:\n",
    "            print(f\"Failed to get headlines from {url}: {e}\")\n",
    "\n",
    "    return all_headlines\n",
    "\n",
    "# Example usage\n",
    "urls = [\n",
    "    \"https://www.bbc.com/news\",\n",
    "    \"https://www.nytimes.com\",\n",
    "]\n",
    "# \"https://www.cnn.com\",\n",
    "#     \"https://www.nytimes.com\",\n",
    "#     \"https://www.foxnews.com\",\n",
    "#     \"https://www.nbcnews.com\",\n",
    "#     \"https://www.washingtonpost.com\",\n",
    "#     \"https://www.cbsnews.com\",\n",
    "#     \"https://www.economist.com\",\n",
    "\n",
    "print(get_headlines(urls))\n"
   ]
  },
  {
   "cell_type": "markdown",
   "id": "8d9d1c2e",
   "metadata": {},
   "source": [
    "## sentiment analysis"
   ]
  },
  {
   "cell_type": "code",
   "execution_count": 2,
   "id": "c2fd50ad",
   "metadata": {},
   "outputs": [
    {
     "name": "stdout",
     "output_type": "stream",
     "text": [
      "0.21507561702366898\n"
     ]
    }
   ],
   "source": [
    "from textblob import TextBlob\n",
    "\n",
    "def stringsToText(list):\n",
    "    result = \", \".join(list)\n",
    "    return result\n",
    "\n",
    "\n",
    "def analyze_sentiment(text):\n",
    "    return TextBlob(text).sentiment.polarity\n",
    "\n",
    "text = stringsToText(get_headlines(urls))\n",
    "\n",
    "#TextBlob(text).sentiment.polarity returns a sentiment polarity score, which is a number between -1.0 and 1.0 that tells you how positive or negative the text is.\n",
    "# -1 = negative ; 1 = positive\n",
    "sentiment = analyze_sentiment(text)\n",
    "\n",
    "print(sentiment)"
   ]
  },
  {
   "cell_type": "markdown",
   "id": "0513c149",
   "metadata": {},
   "source": [
    "## Color visualizations"
   ]
  },
  {
   "cell_type": "code",
   "execution_count": 3,
   "id": "c6734e0e",
   "metadata": {},
   "outputs": [
    {
     "data": {
      "image/png": "[encoded data removed]",
      "text/plain": [
       "<Figure size 600x150 with 1 Axes>"
      ]
     },
     "metadata": {},
     "output_type": "display_data"
    }
   ],
   "source": [
    "import matplotlib.pyplot as plt\n",
    "\n",
    "def get_mood_color(score):\n",
    "    if score > 0.3:\n",
    "        return \"limegreen\", \"😊 Happy\"\n",
    "    elif score < -0.3:\n",
    "        return \"red\", \"😠 Angry\"\n",
    "    else:\n",
    "        return \"gold\", \"😐 Neutral\"\n",
    "\n",
    "def show_sentiment_bar(score):\n",
    "    color, label = get_mood_color(score)\n",
    "    fig, ax = plt.subplots(figsize=(6, 1.5))\n",
    "    ax.barh(0, score, color=color)\n",
    "    ax.set_xlim(-1, 1)\n",
    "    ax.set_title(f\"{label} (Score: {score:.2f})\", fontsize=16)\n",
    "    ax.set_yticks([])\n",
    "    ax.axvline(0, color='black', linestyle='--')\n",
    "    plt.xlabel(\"Sentiment Polarity\")\n",
    "    plt.tight_layout()\n",
    "    plt.show()\n",
    "\n",
    "\n",
    "show_sentiment_bar(sentiment)\n"
   ]
  },
  {
   "cell_type": "code",
   "execution_count": 4,
   "id": "09340a8e",
   "metadata": {},
   "outputs": [],
   "source": [
    "import csv\n",
    "from datetime import datetime\n",
    "\n",
    "\n",
    "# Calculate label\n",
    "label = get_mood_color(sentiment)[1]\n",
    "#print(label)\n",
    "\n",
    "#  Define the timestamp\n",
    "timestamp = datetime.now().strftime(\"%Y-%m-%d %H:%M:%S\")\n",
    "\n",
    "# print(f\"Timestamp: {timestamp}\")\n",
    "# print(f\"Sentiment: {sentiment}\")\n",
    "# print(f\"Label: {label}\")\n",
    "\n",
    "\n",
    "#  Append to CSV file\n",
    "with open(\"mood_history.csv\", \"a\", newline=\"\", encoding=\"utf-8\") as f:\n",
    "    writer = csv.writer(f)\n",
    "    writer.writerow([timestamp, sentiment, label])\n"
   ]
  },
  {
   "cell_type": "code",
   "execution_count": null,
   "id": "b4a65ad6",
   "metadata": {},
   "outputs": [],
   "source": [
    "import schedule\n",
    "import time\n",
    "\n",
    "def job():\n",
    "    headlines = get_headlines()\n",
    "    text = stringsToText(headlines)\n",
    "    score = analyze_sentiment(text)\n",
    "    label = get_mood_color(score)[1]\n",
    "    timestamp = datetime.now().strftime(\"%Y-%m-%d %H:%M:%S\")\n",
    "    with open(\"mood_history.csv\", \"a\", newline=\"\", encoding=\"utf-8\") as f:\n",
    "        writer = csv.writer(f)\n",
    "        writer.writerow([timestamp, score, label])\n",
    "    show_sentiment_bar(score)\n",
    "\n",
    "\n",
    "schedule.every(10).minutes.do(job)\n",
    "\n",
    "while True:\n",
    "    schedule.run_pending()\n",
    "    time.sleep(1)\n"
   ]
  }
 ],
 "metadata": {
  "kernelspec": {
   "display_name": "Python 3",
   "language": "python",
   "name": "python3"
  },
  "language_info": {
   "codemirror_mode": {
    "name": "ipython",
    "version": 3
   },
   "file_extension": ".py",
   "mimetype": "text/x-python",
   "name": "python",
   "nbconvert_exporter": "python",
   "pygments_lexer": "ipython3",
   "version": "3.12.6"
  }
 },
 "nbformat": 4,
 "nbformat_minor": 5
}

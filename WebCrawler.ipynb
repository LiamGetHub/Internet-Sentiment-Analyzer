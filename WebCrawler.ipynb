{
 "cells": [
  {
   "cell_type": "markdown",
   "id": "3e21fa05",
   "metadata": {},
   "source": [
    "## Web Crawl\n",
    "-- Crawl popular web forums and news outlets.\n",
    "-- Collect data from pages.\n",
    "-- Clean to fead to the sentiment anlysis and visualization."
   ]
  },
  {
   "cell_type": "code",
   "execution_count": null,
   "id": "cc124b72",
   "metadata": {},
   "outputs": [
    {
     "name": "stdout",
     "output_type": "stream",
     "text": [
      "['Ukraine and Russia far apart in direct talks, but prisoner swap agreed', 'Cassie Ventura tells Diddy trial she would give back $20m to undo freak-offs', \"I was on a flight - but British Airways told me I wasn't\", \"How Diddy's lawyers used freak-off texts against Cassie\", 'US loses last perfect credit rating amid rising debt', 'Cassie Ventura tells Diddy trial she would give back $20m to undo freak-offs', 'Dizziness from hunger has become a constant, Gazans tell the BBC', \"Four obstacles for Republican rebels in Trump's 'big, beautiful' tax bill\", \"Trump's frantic week of peace brokering hints at what he really wants\", \"I was on a flight - but British Airways told me I wasn't\", 'Ex-FBI boss interviewed by Secret Service over Trump seashell post', 'Eurovision final 2025: Catch up with the top five favourites', \"Venezuelan deported from US using gang 'points system', lawyers say\", 'Melania Trump statue goes missing in Slovenia', \"'To Easy LoL' - New Orleans jail break may have been inside job\", 'More to explore', \"Ros Atkins on... how world leaders are responding to Israel's blockade of Gaza\", \"The 'peacock of Savile Row' on dressing stars for the Met Gala\", \"Of opium, fire temples, and sarees: A peek into the world of India's dwindling Parsis\", 'Why youth mobility and fishing are key issues ahead of UK/EU summit', \"Doom: One of gaming's oldest series reckons with the challenges of 2025\", \"The 'peacock of Savile Row' on dressing stars for the Met Gala\", \"'To Easy LoL' - New Orleans jail break may have been inside job\", \"Of opium, fire temples, and sarees: A peek into the world of India's dwindling Parsis\", 'Also in news', 'Huge fire engulfs historic plantation house in Louisiana', 'Brits can be extradited over Tokyo jewellery heist', 'LA 2028 Olympics plans air taxi service for spectators', 'ICC prosecutor steps aside until sexual misconduct probe ends', 'Shock in Sweden at death of diplomat questioned for spying', 'Brits can be extradited over Tokyo jewellery heist', \"Audio emerges of Biden 'poor memory' interview with investigator\", 'Polish voters set for tight presidential race after 10 years of Duda', 'Russia jails Australian man for fighting alongside Ukraine', 'LA 2028 Olympics plans air taxi service for spectators', 'Most watched', \"How Diddy's lawyers used freak-off texts against Cassie\", 'Huge fire engulfs historic plantation house in Louisiana', \"Ros Atkins on... how world leaders are responding to Israel's blockade of Gaza\", \"Watch: Moment Ben & Jerry's co-founder interrupts RFK Jr speech\", 'Watch: Moment train ploughs into lorry stuck on tracks', 'Most read', 'Cassie Ventura tells Diddy trial she would give back $20m to undo freak-offs', \"Trump's frantic week of peace brokering hints at what he really wants\", \"I was on a flight - but British Airways told me I wasn't\", 'US loses last perfect credit rating amid rising debt', 'Ex-FBI boss interviewed by Secret Service over Trump seashell post', \"Five House Republicans stall Trump's 'big, beautiful' tax bill\", \"Canada's iconic Hudson Bay brand to survive after sale to competitor\", \"Of opium, fire temples, and sarees: A peek into the world of India's dwindling Parsis\", \"Four obstacles for Republican rebels in Trump's 'big, beautiful' tax bill\", 'Ukraine and Russia far apart in direct talks, but prisoner swap agreed', 'Sport', \"Record lows for Man Utd & Spurs - but who's in best shape for Bilbao?\", 'Chelsea fate in own hands & Villa hope - six teams in top-five hunt', 'Sinner & Alcaraz set up huge Italian Open final', 'Guardiola unhappy Bournemouth game not moved', \"Salah criticises 'harsh' Alexander-Arnold boos \", 'Chelsea fate in own hands & Villa hope - six teams in top-five hunt', 'Vegas leads from Fitzpatrick as McIlroy makes US PGA cut', \"McLaren still need to 'find a bit more' - Piastri\", 'Sinner & Alcaraz set up huge Italian Open final', 'Follow BBC on:']\n"
     ]
    }
   ],
   "source": [
    "import requests\n",
    "from bs4 import BeautifulSoup\n",
    "\n",
    "def get_headlines():\n",
    "    # turn this into a list/structure in the future\n",
    "    # replace with api calls for longevity?\n",
    "    url = \"https://www.bbc.com/news\"\n",
    "    response = requests.get(url)\n",
    "    soup = BeautifulSoup(response.text, \"html.parser\")\n",
    "\n",
    "    #scrape h2 and h3 \n",
    "    h2Headlines = [h.get_text() for h in soup.find_all(\"h2\")]\n",
    "    h3Headlines = [h.get_text() for h in soup.find_all(\"h3\")]\n",
    "\n",
    "    #add to one list\n",
    "    headlines = h2Headlines + h3Headlines\n",
    "    return headlines\n",
    "\n",
    "print(get_headlines())\n"
   ]
  },
  {
   "cell_type": "code",
   "execution_count": null,
   "id": "b09ba828",
   "metadata": {},
   "outputs": [],
   "source": []
  }
 ],
 "metadata": {
  "kernelspec": {
   "display_name": "Python 3",
   "language": "python",
   "name": "python3"
  },
  "language_info": {
   "codemirror_mode": {
    "name": "ipython",
    "version": 3
   },
   "file_extension": ".py",
   "mimetype": "text/x-python",
   "name": "python",
   "nbconvert_exporter": "python",
   "pygments_lexer": "ipython3",
   "version": "3.12.6"
  }
 },
 "nbformat": 4,
 "nbformat_minor": 5
}

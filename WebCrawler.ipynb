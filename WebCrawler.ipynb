{
 "cells": [
  {
   "cell_type": "markdown",
   "id": "3e21fa05",
   "metadata": {},
   "source": [
    "## Web Crawl\n",
    "-- Crawl popular web forums and news outlets.\n",
    "-- Collect data from pages.\n",
    "-- Clean to fead to the sentiment anlysis and visualization."
   ]
  },
  {
   "cell_type": "code",
   "execution_count": null,
   "id": "cc124b72",
   "metadata": {},
   "outputs": [
    {
     "name": "stdout",
     "output_type": "stream",
     "text": [
      "Failed to get headlines from https://www.reuters.com: 401 Client Error: HTTP Forbidden for url: https://www.reuters.com/\n",
      "['Ukraine and Russia far apart in direct talks, but prisoner swap agreed', 'Cassie Ventura tells Diddy trial she would give back $20m to undo freak-offs', \"I was on a flight - but British Airways told me I wasn't\", \"How Diddy's lawyers used freak-off texts against Cassie\", 'US loses last perfect credit rating amid rising debt', 'Cassie Ventura tells Diddy trial she would give back $20m to undo freak-offs', 'Dizziness from hunger has become a constant, Gazans tell the BBC', \"Four obstacles for Republican rebels in Trump's 'big, beautiful' tax bill\", \"Trump's frantic week of peace brokering hints at what he really wants\", \"I was on a flight - but British Airways told me I wasn't\", 'Ex-FBI boss interviewed by Secret Service over Trump seashell post', 'Eurovision final 2025: Catch up with the top five favourites', \"Venezuelan deported from US using gang 'points system', lawyers say\", 'Melania Trump statue goes missing in Slovenia', \"'To Easy LoL' - New Orleans jail break may have been inside job\", 'More to explore', \"Ros Atkins on... how world leaders are responding to Israel's blockade of Gaza\", \"The 'peacock of Savile Row' on dressing stars for the Met Gala\", \"'To Easy LoL' - New Orleans jail break may have been inside job\", \"Of opium, fire temples, and sarees: A peek into the world of India's dwindling Parsis\", 'Why youth mobility and fishing are key issues ahead of UK/EU summit', \"The 'peacock of Savile Row' on dressing stars for the Met Gala\", \"As Comey social media post triggers a row, what does '86' mean?\", \"'To Easy LoL' - New Orleans jail break may have been inside job\", 'Also in news', 'Huge fire engulfs historic plantation house in Louisiana', 'Brits can be extradited over Tokyo jewellery heist', 'Russia jails Australian man for fighting alongside Ukraine', 'LA 2028 Olympics plans air taxi service for spectators', 'ICC prosecutor steps aside until sexual misconduct probe ends', 'Brits can be extradited over Tokyo jewellery heist', \"Audio emerges of Biden 'poor memory' interview with investigator\", 'All you need to know about the Eurovision 2025 final', 'Polish voters set for tight presidential race after 10 years of Duda', 'Russia jails Australian man for fighting alongside Ukraine', 'Most watched', \"How Diddy's lawyers used freak-off texts against Cassie\", 'Huge fire engulfs historic plantation house in Louisiana', \"Ros Atkins on... how world leaders are responding to Israel's blockade of Gaza\", 'Watch: UK surgeon shares footage from Gaza hospital after deadly Israeli strike', 'Watch: Should judges be able to block Trump on birthright citizenship?', 'Most read', \"Trump's frantic week of peace brokering hints at what he really wants\", 'Cassie Ventura tells Diddy trial she would give back $20m to undo freak-offs', \"I was on a flight - but British Airways told me I wasn't\", 'US loses last perfect credit rating amid rising debt', \"Canada's iconic Hudson Bay brand to survive after sale to competitor\", \"Of opium, fire temples, and sarees: A peek into the world of India's dwindling Parsis\", \"Four obstacles for Republican rebels in Trump's 'big, beautiful' tax bill\", 'Ex-FBI boss interviewed by Secret Service over Trump seashell post', \"Five House Republicans stall Trump's 'big, beautiful' tax bill\", 'Ukraine and Russia far apart in direct talks, but prisoner swap agreed', 'Sport', \"Record lows for Man Utd & Spurs - but who's in best shape for Bilbao?\", 'Chelsea fate in own hands & Villa hope - six teams in top-five hunt', 'Sinner & Alcaraz set up huge Italian Open final', 'Guardiola unhappy Bournemouth game not moved', \"Salah criticises 'harsh' Alexander-Arnold boos\", 'Chelsea fate in own hands & Villa hope - six teams in top-five hunt', 'Vegas leads from Fitzpatrick as McIlroy makes US PGA cut', \"McLaren still need to 'find a bit more' - Piastri\", 'Sinner & Alcaraz set up huge Italian Open final', 'Follow BBC on:', 'SCOTUS blocks Trump from restarting Alien Enemies Act deportations', 'More top stories', 'Money matters', 'Weather', 'CNN Podcasts', 'CNN Games + Quizzes', 'Check these out', 'For Subscribers', 'CNN Underscored', 'Best-in-class', 'Expert-backed guides', \"Editors' picks\", 'Business', 'Entertainment', 'Space and Science', 'Travel', 'Style', 'health and wellness', 'More Politics', 'US', 'World', 'CNN podcasts', 'Sports', 'Video', 'Food and Home', 'Paid Content', 'More from CNN', 'The Vatican', 'Wealth Coach', 'Photos', 'Paid Partner Content', 'CNN Games + Quizzes', 'In case you missed it', 'CNN values your feedback']\n"
     ]
    }
   ],
   "source": [
    "# import requests\n",
    "# from bs4 import BeautifulSoup\n",
    "\n",
    "# def get_headlines():\n",
    "#     # turn this into a list/structure in the future\n",
    "#     # replace with api calls for longevity?\n",
    "#     url = \"https://www.bbc.com/news\"\n",
    "#     response = requests.get(url)\n",
    "#     soup = BeautifulSoup(response.text, \"html.parser\")\n",
    "\n",
    "#     #scrape h2 and h3 \n",
    "#     h2Headlines = [h.get_text() for h in soup.find_all(\"h2\")]\n",
    "#     h3Headlines = [h.get_text() for h in soup.find_all(\"h3\")]\n",
    "\n",
    "#     #add to one list\n",
    "#     headlines = h2Headlines + h3Headlines\n",
    "#     return headlines\n",
    "\n",
    "# print(get_headlines())\n",
    "\n",
    "import requests\n",
    "from bs4 import BeautifulSoup\n",
    "\n",
    "def get_headlines(urls):\n",
    "    all_headlines = []\n",
    "    for url in urls:\n",
    "        try:\n",
    "            response = requests.get(url)\n",
    "            response.raise_for_status()  # Raise error for bad responses\n",
    "            soup = BeautifulSoup(response.text, \"html.parser\")\n",
    "\n",
    "            h2Headlines = [h.get_text().strip() for h in soup.find_all(\"h2\")]\n",
    "            h3Headlines = [h.get_text().strip() for h in soup.find_all(\"h3\")]\n",
    "\n",
    "            headlines = h2Headlines + h3Headlines\n",
    "            all_headlines.extend(headlines)\n",
    "        except requests.RequestException as e:\n",
    "            print(f\"Failed to get headlines from {url}: {e}\")\n",
    "\n",
    "    return all_headlines\n",
    "\n",
    "# Example usage\n",
    "urls = [\n",
    "    \"https://www.bbc.com/news\",\n",
    "    \"https://www.cnn.com\",\n",
    "    \"https://www.reuters.com\",\n",
    "    \"https://www.nytimes.com\",\n",
    "    \"https://www.theguardian.com/international\",\n",
    "    \"https://www.aljazeera.com\",\n",
    "    \"https://www.foxnews.com\",\n",
    "    \"https://www.nbcnews.com\",\n",
    "    \"https://www.washingtonpost.com\",\n",
    "    \"https://www.bloomberg.com\",\n",
    "    \"https://www.cbsnews.com\",\n",
    "    \"https://www.npr.org\",\n",
    "    \"https://www.wsj.com\",\n",
    "    \"https://www.economist.com\",\n",
    "    \"https://www.nationalgeographic.com\"\n",
    "]\n",
    "\n",
    "print(get_headlines(urls))\n"
   ]
  },
  {
   "cell_type": "markdown",
   "id": "8d9d1c2e",
   "metadata": {},
   "source": [
    "## sentiment analysis"
   ]
  },
  {
   "cell_type": "code",
   "execution_count": 116,
   "id": "c2fd50ad",
   "metadata": {},
   "outputs": [
    {
     "name": "stdout",
     "output_type": "stream",
     "text": [
      "Failed to get headlines from https://www.reuters.com: 401 Client Error: HTTP Forbidden for url: https://www.reuters.com/\n",
      "0.17772714233557607\n"
     ]
    }
   ],
   "source": [
    "from textblob import TextBlob\n",
    "\n",
    "def stringsToText(list):\n",
    "    result = \", \".join(list)\n",
    "    return result\n",
    "\n",
    "\n",
    "def analyze_sentiment(text):\n",
    "    return TextBlob(text).sentiment.polarity\n",
    "\n",
    "text = stringsToText(get_headlines(urls))\n",
    "\n",
    "#TextBlob(text).sentiment.polarity returns a sentiment polarity score, which is a number between -1.0 and 1.0 that tells you how positive or negative the text is.\n",
    "# -1 = negative ; 1 = positive\n",
    "sentiment = analyze_sentiment(text)\n",
    "\n",
    "print(sentiment)"
   ]
  },
  {
   "cell_type": "markdown",
   "id": "0513c149",
   "metadata": {},
   "source": [
    "## Color visualizations"
   ]
  },
  {
   "cell_type": "code",
   "execution_count": 117,
   "id": "c6734e0e",
   "metadata": {},
   "outputs": [
    {
     "data": {
      "image/png": "[encoded data removed]",
      "text/plain": [
       "<Figure size 600x150 with 1 Axes>"
      ]
     },
     "metadata": {},
     "output_type": "display_data"
    }
   ],
   "source": [
    "import matplotlib.pyplot as plt\n",
    "\n",
    "def show_sentiment_bar(score):\n",
    "    color, label = get_mood_color(score)\n",
    "    fig, ax = plt.subplots(figsize=(6, 1.5))\n",
    "    ax.barh(0, score, color=color)\n",
    "    ax.set_xlim(-1, 1)\n",
    "    ax.set_title(f\"{label} (Score: {score:.2f})\", fontsize=16)\n",
    "    ax.set_yticks([])\n",
    "    ax.axvline(0, color='black', linestyle='--')\n",
    "    plt.xlabel(\"Sentiment Polarity\")\n",
    "    plt.tight_layout()\n",
    "    plt.show()\n",
    "\n",
    "\n",
    "show_sentiment_bar(sentiment)\n"
   ]
  },
  {
   "cell_type": "code",
   "execution_count": 118,
   "id": "09340a8e",
   "metadata": {},
   "outputs": [],
   "source": [
    "import csv\n",
    "from datetime import datetime\n",
    "\n",
    "# Example variables\n",
    "#avg_score = 0.42\n",
    "#mood_label = \"😊 Happy\"\n",
    "\n",
    "#  Define the timestamp\n",
    "timestamp = datetime.now().strftime(\"%Y-%m-%d %H:%M:%S\")\n",
    "\n",
    "#  Append to CSV file\n",
    "with open(\"mood_history.csv\", \"a\", newline=\"\", encoding=\"utf-8\") as f:\n",
    "    writer = csv.writer(f)\n",
    "    writer.writerow([timestamp, avg_score, mood_label])\n"
   ]
  },
  {
   "cell_type": "code",
   "execution_count": null,
   "id": "ea319dcf",
   "metadata": {},
   "outputs": [],
   "source": []
  }
 ],
 "metadata": {
  "kernelspec": {
   "display_name": "Python 3",
   "language": "python",
   "name": "python3"
  },
  "language_info": {
   "codemirror_mode": {
    "name": "ipython",
    "version": 3
   },
   "file_extension": ".py",
   "mimetype": "text/x-python",
   "name": "python",
   "nbconvert_exporter": "python",
   "pygments_lexer": "ipython3",
   "version": "3.12.6"
  }
 },
 "nbformat": 4,
 "nbformat_minor": 5
}
